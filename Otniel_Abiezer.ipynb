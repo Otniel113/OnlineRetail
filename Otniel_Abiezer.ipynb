{
  "nbformat": 4,
  "nbformat_minor": 0,
  "metadata": {
    "colab": {
      "name": "Rakamin_Homework.ipynb",
      "provenance": [],
      "collapsed_sections": [
        "VRrYn2ZNb2iQ",
        "e2n_Kmh2upsl",
        "DBb4JqWwO0JF"
      ]
    },
    "kernelspec": {
      "display_name": "Python 3",
      "name": "python3"
    },
    "language_info": {
      "name": "python"
    }
  },
  "cells": [
    {
      "cell_type": "markdown",
      "metadata": {
        "id": "Obt0kqSJXbKS"
      },
      "source": [
        "# Homework "
      ]
    },
    {
      "cell_type": "markdown",
      "metadata": {
        "id": "ebf52fe7"
      },
      "source": [
        "## Load Data"
      ]
    },
    {
      "cell_type": "markdown",
      "metadata": {
        "id": "k7WubxwY1H_N"
      },
      "source": [
        "Import Library"
      ]
    },
    {
      "cell_type": "code",
      "metadata": {
        "id": "sc3D46Dm_3np"
      },
      "source": [
        "import pandas as pd\n",
        "import numpy as np\n",
        "\n",
        "import matplotlib as mpl\n",
        "import matplotlib.pyplot as plt\n",
        "%matplotlib inline"
      ],
      "execution_count": 235,
      "outputs": []
    },
    {
      "cell_type": "markdown",
      "metadata": {
        "id": "Hja6wfLL1hNT"
      },
      "source": [
        "Import Dataset"
      ]
    },
    {
      "cell_type": "code",
      "metadata": {
        "id": "6c4b0183"
      },
      "source": [
        "#Direktori Dataset disesuaikan\n",
        "\n",
        "url = 'https://drive.google.com/file/d/1r0qXP_unNdthoUNSrh1z8CfBwWFko_w6/view?usp=sharing'\n",
        "url2= 'https://drive.google.com/uc?id=' + url.split('/')[-2]\n",
        "\n",
        "df_dataset = pd.read_csv(url2)"
      ],
      "execution_count": 236,
      "outputs": []
    },
    {
      "cell_type": "markdown",
      "metadata": {
        "id": "h5LNXYON1n-U"
      },
      "source": [
        "Mengambil 10 data acak"
      ]
    },
    {
      "cell_type": "code",
      "metadata": {
        "colab": {
          "base_uri": "https://localhost:8080/",
          "height": 359
        },
        "id": "Umw_hNvpB9Jf",
        "outputId": "91fe4ef3-49b1-4fd7-df46-7c259b2f953c"
      },
      "source": [
        "df_dataset.sample(10)"
      ],
      "execution_count": 237,
      "outputs": [
        {
          "output_type": "execute_result",
          "data": {
            "text/html": [
              "<div>\n",
              "<style scoped>\n",
              "    .dataframe tbody tr th:only-of-type {\n",
              "        vertical-align: middle;\n",
              "    }\n",
              "\n",
              "    .dataframe tbody tr th {\n",
              "        vertical-align: top;\n",
              "    }\n",
              "\n",
              "    .dataframe thead th {\n",
              "        text-align: right;\n",
              "    }\n",
              "</style>\n",
              "<table border=\"1\" class=\"dataframe\">\n",
              "  <thead>\n",
              "    <tr style=\"text-align: right;\">\n",
              "      <th></th>\n",
              "      <th>Invoice</th>\n",
              "      <th>StockCode</th>\n",
              "      <th>Description</th>\n",
              "      <th>Quantity</th>\n",
              "      <th>InvoiceDate</th>\n",
              "      <th>Price</th>\n",
              "      <th>Customer ID</th>\n",
              "      <th>Country</th>\n",
              "    </tr>\n",
              "  </thead>\n",
              "  <tbody>\n",
              "    <tr>\n",
              "      <th>434350</th>\n",
              "      <td>530855</td>\n",
              "      <td>84946</td>\n",
              "      <td>ANTIQUE SILVER TEA GLASS ETCHED</td>\n",
              "      <td>12</td>\n",
              "      <td>2010-11-04 14:55:00</td>\n",
              "      <td>1.25</td>\n",
              "      <td>13303.0</td>\n",
              "      <td>United Kingdom</td>\n",
              "    </tr>\n",
              "    <tr>\n",
              "      <th>980512</th>\n",
              "      <td>575607</td>\n",
              "      <td>22549</td>\n",
              "      <td>PICTURE DOMINOES</td>\n",
              "      <td>5</td>\n",
              "      <td>2011-11-10 12:37:00</td>\n",
              "      <td>3.29</td>\n",
              "      <td>14096.0</td>\n",
              "      <td>United Kingdom</td>\n",
              "    </tr>\n",
              "    <tr>\n",
              "      <th>988575</th>\n",
              "      <td>576053</td>\n",
              "      <td>23365</td>\n",
              "      <td>SET 12 COLOUR PENCILS LOVE LONDON</td>\n",
              "      <td>8</td>\n",
              "      <td>2011-11-13 14:53:00</td>\n",
              "      <td>0.65</td>\n",
              "      <td>16726.0</td>\n",
              "      <td>United Kingdom</td>\n",
              "    </tr>\n",
              "    <tr>\n",
              "      <th>760609</th>\n",
              "      <td>557626</td>\n",
              "      <td>23174</td>\n",
              "      <td>REGENCY SUGAR BOWL GREEN</td>\n",
              "      <td>6</td>\n",
              "      <td>2011-06-21 14:29:00</td>\n",
              "      <td>4.15</td>\n",
              "      <td>14175.0</td>\n",
              "      <td>United Kingdom</td>\n",
              "    </tr>\n",
              "    <tr>\n",
              "      <th>29749</th>\n",
              "      <td>491950</td>\n",
              "      <td>22114</td>\n",
              "      <td>HOT WATER BOTTLE TEA AND SYMPATHY</td>\n",
              "      <td>4</td>\n",
              "      <td>2009-12-14 15:49:00</td>\n",
              "      <td>3.95</td>\n",
              "      <td>16280.0</td>\n",
              "      <td>United Kingdom</td>\n",
              "    </tr>\n",
              "    <tr>\n",
              "      <th>46398</th>\n",
              "      <td>493696</td>\n",
              "      <td>21213</td>\n",
              "      <td>PACK OF 72 SKULL CAKE CASES</td>\n",
              "      <td>120</td>\n",
              "      <td>2010-01-05 13:32:00</td>\n",
              "      <td>0.42</td>\n",
              "      <td>16779.0</td>\n",
              "      <td>United Kingdom</td>\n",
              "    </tr>\n",
              "    <tr>\n",
              "      <th>110387</th>\n",
              "      <td>499977</td>\n",
              "      <td>84270</td>\n",
              "      <td>ASSTD DESIGN BUBBLE GUM RING</td>\n",
              "      <td>30</td>\n",
              "      <td>2010-03-03 15:13:00</td>\n",
              "      <td>0.21</td>\n",
              "      <td>14142.0</td>\n",
              "      <td>United Kingdom</td>\n",
              "    </tr>\n",
              "    <tr>\n",
              "      <th>525326</th>\n",
              "      <td>538167</td>\n",
              "      <td>22306</td>\n",
              "      <td>SILVER MUG BONE CHINA TREE OF LIFE</td>\n",
              "      <td>4</td>\n",
              "      <td>2010-12-09 18:58:00</td>\n",
              "      <td>1.95</td>\n",
              "      <td>14713.0</td>\n",
              "      <td>United Kingdom</td>\n",
              "    </tr>\n",
              "    <tr>\n",
              "      <th>683430</th>\n",
              "      <td>550215</td>\n",
              "      <td>85099C</td>\n",
              "      <td>JUMBO  BAG BAROQUE BLACK WHITE</td>\n",
              "      <td>5</td>\n",
              "      <td>2011-04-15 10:43:00</td>\n",
              "      <td>4.13</td>\n",
              "      <td>NaN</td>\n",
              "      <td>United Kingdom</td>\n",
              "    </tr>\n",
              "    <tr>\n",
              "      <th>150765</th>\n",
              "      <td>503774</td>\n",
              "      <td>22423</td>\n",
              "      <td>REGENCY CAKESTAND 3 TIER</td>\n",
              "      <td>1</td>\n",
              "      <td>2010-04-07 11:04:00</td>\n",
              "      <td>12.75</td>\n",
              "      <td>14606.0</td>\n",
              "      <td>United Kingdom</td>\n",
              "    </tr>\n",
              "  </tbody>\n",
              "</table>\n",
              "</div>"
            ],
            "text/plain": [
              "       Invoice StockCode  ... Customer ID         Country\n",
              "434350  530855     84946  ...     13303.0  United Kingdom\n",
              "980512  575607     22549  ...     14096.0  United Kingdom\n",
              "988575  576053     23365  ...     16726.0  United Kingdom\n",
              "760609  557626     23174  ...     14175.0  United Kingdom\n",
              "29749   491950     22114  ...     16280.0  United Kingdom\n",
              "46398   493696     21213  ...     16779.0  United Kingdom\n",
              "110387  499977     84270  ...     14142.0  United Kingdom\n",
              "525326  538167     22306  ...     14713.0  United Kingdom\n",
              "683430  550215    85099C  ...         NaN  United Kingdom\n",
              "150765  503774     22423  ...     14606.0  United Kingdom\n",
              "\n",
              "[10 rows x 8 columns]"
            ]
          },
          "metadata": {},
          "execution_count": 237
        }
      ]
    },
    {
      "cell_type": "markdown",
      "metadata": {
        "id": "UNjqwQ8E1wAF"
      },
      "source": [
        "Melihat ukuran dataset"
      ]
    },
    {
      "cell_type": "code",
      "metadata": {
        "colab": {
          "base_uri": "https://localhost:8080/"
        },
        "id": "l2dP_x-q1Cpg",
        "outputId": "6c4df0d3-25fe-41ef-f12e-8a0e2264b420"
      },
      "source": [
        "df_dataset.shape"
      ],
      "execution_count": 238,
      "outputs": [
        {
          "output_type": "execute_result",
          "data": {
            "text/plain": [
              "(1067371, 8)"
            ]
          },
          "metadata": {},
          "execution_count": 238
        }
      ]
    },
    {
      "cell_type": "markdown",
      "metadata": {
        "id": "1o_X_3-53B2T"
      },
      "source": [
        "Mencari info setiap kolom (yang non null dan tipe data)"
      ]
    },
    {
      "cell_type": "code",
      "metadata": {
        "colab": {
          "base_uri": "https://localhost:8080/"
        },
        "id": "8ihcho1c2N3H",
        "outputId": "fd838a3f-e6a1-40c2-da75-760e8a9cdc7e"
      },
      "source": [
        "df_dataset.info()"
      ],
      "execution_count": 239,
      "outputs": [
        {
          "output_type": "stream",
          "name": "stdout",
          "text": [
            "<class 'pandas.core.frame.DataFrame'>\n",
            "RangeIndex: 1067371 entries, 0 to 1067370\n",
            "Data columns (total 8 columns):\n",
            " #   Column       Non-Null Count    Dtype  \n",
            "---  ------       --------------    -----  \n",
            " 0   Invoice      1067371 non-null  object \n",
            " 1   StockCode    1067371 non-null  object \n",
            " 2   Description  1062989 non-null  object \n",
            " 3   Quantity     1067371 non-null  int64  \n",
            " 4   InvoiceDate  1067371 non-null  object \n",
            " 5   Price        1067371 non-null  float64\n",
            " 6   Customer ID  824364 non-null   float64\n",
            " 7   Country      1067371 non-null  object \n",
            "dtypes: float64(2), int64(1), object(5)\n",
            "memory usage: 65.1+ MB\n"
          ]
        }
      ]
    },
    {
      "cell_type": "markdown",
      "metadata": {
        "id": "UxBVd3BVyRTH"
      },
      "source": [
        "## Section 1"
      ]
    },
    {
      "cell_type": "markdown",
      "metadata": {
        "id": "Qr4-JQSuyrzE"
      },
      "source": [
        "### 1.1. Create New Feature: Year"
      ]
    },
    {
      "cell_type": "markdown",
      "metadata": {
        "id": "vzIA8n4f6Y6R"
      },
      "source": [
        "Cek Info awal"
      ]
    },
    {
      "cell_type": "code",
      "metadata": {
        "colab": {
          "base_uri": "https://localhost:8080/"
        },
        "id": "FXJF-9Re2s-b",
        "outputId": "894018f5-7dcb-4497-cb23-c9cd038505dd"
      },
      "source": [
        "df_dataset.info()"
      ],
      "execution_count": 240,
      "outputs": [
        {
          "output_type": "stream",
          "name": "stdout",
          "text": [
            "<class 'pandas.core.frame.DataFrame'>\n",
            "RangeIndex: 1067371 entries, 0 to 1067370\n",
            "Data columns (total 8 columns):\n",
            " #   Column       Non-Null Count    Dtype  \n",
            "---  ------       --------------    -----  \n",
            " 0   Invoice      1067371 non-null  object \n",
            " 1   StockCode    1067371 non-null  object \n",
            " 2   Description  1062989 non-null  object \n",
            " 3   Quantity     1067371 non-null  int64  \n",
            " 4   InvoiceDate  1067371 non-null  object \n",
            " 5   Price        1067371 non-null  float64\n",
            " 6   Customer ID  824364 non-null   float64\n",
            " 7   Country      1067371 non-null  object \n",
            "dtypes: float64(2), int64(1), object(5)\n",
            "memory usage: 65.1+ MB\n"
          ]
        }
      ]
    },
    {
      "cell_type": "markdown",
      "metadata": {
        "id": "2xPFJGKB0FVG"
      },
      "source": [
        "Mengganti InvoiceDate menjadi datetime"
      ]
    },
    {
      "cell_type": "code",
      "metadata": {
        "colab": {
          "base_uri": "https://localhost:8080/"
        },
        "id": "T0S9antnyt3N",
        "outputId": "69cf6a40-f18d-42b6-bae2-4165fc2dd1fe"
      },
      "source": [
        "df_dataset['InvoiceDate'] = pd.to_datetime(df_dataset['InvoiceDate'])\n",
        "df_dataset.info()"
      ],
      "execution_count": 241,
      "outputs": [
        {
          "output_type": "stream",
          "name": "stdout",
          "text": [
            "<class 'pandas.core.frame.DataFrame'>\n",
            "RangeIndex: 1067371 entries, 0 to 1067370\n",
            "Data columns (total 8 columns):\n",
            " #   Column       Non-Null Count    Dtype         \n",
            "---  ------       --------------    -----         \n",
            " 0   Invoice      1067371 non-null  object        \n",
            " 1   StockCode    1067371 non-null  object        \n",
            " 2   Description  1062989 non-null  object        \n",
            " 3   Quantity     1067371 non-null  int64         \n",
            " 4   InvoiceDate  1067371 non-null  datetime64[ns]\n",
            " 5   Price        1067371 non-null  float64       \n",
            " 6   Customer ID  824364 non-null   float64       \n",
            " 7   Country      1067371 non-null  object        \n",
            "dtypes: datetime64[ns](1), float64(2), int64(1), object(4)\n",
            "memory usage: 65.1+ MB\n"
          ]
        }
      ]
    },
    {
      "cell_type": "markdown",
      "metadata": {
        "id": "-j7DlGLZ3N-_"
      },
      "source": [
        "Mendapatkan Tahun"
      ]
    },
    {
      "cell_type": "code",
      "metadata": {
        "colab": {
          "base_uri": "https://localhost:8080/"
        },
        "id": "dV5_DGRx5Xvc",
        "outputId": "2927608d-0ba6-432d-8910-f6e621743ad6"
      },
      "source": [
        "year = pd.DatetimeIndex(df_dataset['InvoiceDate']).year\n",
        "year"
      ],
      "execution_count": 242,
      "outputs": [
        {
          "output_type": "execute_result",
          "data": {
            "text/plain": [
              "Int64Index([2009, 2009, 2009, 2009, 2009, 2009, 2009, 2009, 2009, 2009,\n",
              "            ...\n",
              "            2011, 2011, 2011, 2011, 2011, 2011, 2011, 2011, 2011, 2011],\n",
              "           dtype='int64', name='InvoiceDate', length=1067371)"
            ]
          },
          "metadata": {},
          "execution_count": 242
        }
      ]
    },
    {
      "cell_type": "markdown",
      "metadata": {
        "id": "CTayltko5pAl"
      },
      "source": [
        "Menambahkan Kolom Year ke Dataset"
      ]
    },
    {
      "cell_type": "code",
      "metadata": {
        "colab": {
          "base_uri": "https://localhost:8080/"
        },
        "id": "3jmn9mBx6Bmp",
        "outputId": "48159cf6-2898-4ba9-c372-ed18ac303a7f"
      },
      "source": [
        "df_dataset['Year'] = year\n",
        "df_dataset.info()"
      ],
      "execution_count": 263,
      "outputs": [
        {
          "output_type": "stream",
          "name": "stdout",
          "text": [
            "<class 'pandas.core.frame.DataFrame'>\n",
            "RangeIndex: 1067371 entries, 0 to 1067370\n",
            "Data columns (total 9 columns):\n",
            " #   Column       Non-Null Count    Dtype         \n",
            "---  ------       --------------    -----         \n",
            " 0   Invoice      1067371 non-null  object        \n",
            " 1   StockCode    1067371 non-null  object        \n",
            " 2   Description  1062989 non-null  object        \n",
            " 3   Quantity     1067371 non-null  int64         \n",
            " 4   InvoiceDate  1067371 non-null  datetime64[ns]\n",
            " 5   Price        1067371 non-null  float64       \n",
            " 6   Customer ID  824364 non-null   float64       \n",
            " 7   Country      1067371 non-null  object        \n",
            " 8   Year         1067371 non-null  int64         \n",
            "dtypes: datetime64[ns](1), float64(2), int64(2), object(4)\n",
            "memory usage: 73.3+ MB\n"
          ]
        }
      ]
    },
    {
      "cell_type": "markdown",
      "metadata": {
        "id": "gy8YhbFC9UI0"
      },
      "source": [
        "### 1.2. Filtering Data"
      ]
    },
    {
      "cell_type": "markdown",
      "metadata": {
        "id": "scaSHgZW-mvA"
      },
      "source": [
        "Mendapatkan deskripsi Quantity"
      ]
    },
    {
      "cell_type": "code",
      "metadata": {
        "colab": {
          "base_uri": "https://localhost:8080/"
        },
        "id": "qc7Nu4ro9mjo",
        "outputId": "b29fe36f-123a-4ff1-d8d2-32684a9a03ce"
      },
      "source": [
        "df_dataset['Quantity'].describe()"
      ],
      "execution_count": 244,
      "outputs": [
        {
          "output_type": "execute_result",
          "data": {
            "text/plain": [
              "count    1.067371e+06\n",
              "mean     9.938898e+00\n",
              "std      1.727058e+02\n",
              "min     -8.099500e+04\n",
              "25%      1.000000e+00\n",
              "50%      3.000000e+00\n",
              "75%      1.000000e+01\n",
              "max      8.099500e+04\n",
              "Name: Quantity, dtype: float64"
            ]
          },
          "metadata": {},
          "execution_count": 244
        }
      ]
    },
    {
      "cell_type": "markdown",
      "metadata": {
        "id": "Ov0BsGYH_ysk"
      },
      "source": [
        "Quantity di atas atau sama dengan 1"
      ]
    },
    {
      "cell_type": "code",
      "metadata": {
        "colab": {
          "base_uri": "https://localhost:8080/",
          "height": 204
        },
        "id": "eBY3pKfw_rDs",
        "outputId": "22b13235-4d69-4e26-f544-0dd5db65c705"
      },
      "source": [
        "quantity_valid = df_dataset[df_dataset['Quantity'] >= 1]\n",
        "quantity_valid.head()"
      ],
      "execution_count": 245,
      "outputs": [
        {
          "output_type": "execute_result",
          "data": {
            "text/html": [
              "<div>\n",
              "<style scoped>\n",
              "    .dataframe tbody tr th:only-of-type {\n",
              "        vertical-align: middle;\n",
              "    }\n",
              "\n",
              "    .dataframe tbody tr th {\n",
              "        vertical-align: top;\n",
              "    }\n",
              "\n",
              "    .dataframe thead th {\n",
              "        text-align: right;\n",
              "    }\n",
              "</style>\n",
              "<table border=\"1\" class=\"dataframe\">\n",
              "  <thead>\n",
              "    <tr style=\"text-align: right;\">\n",
              "      <th></th>\n",
              "      <th>Invoice</th>\n",
              "      <th>StockCode</th>\n",
              "      <th>Description</th>\n",
              "      <th>Quantity</th>\n",
              "      <th>InvoiceDate</th>\n",
              "      <th>Price</th>\n",
              "      <th>Customer ID</th>\n",
              "      <th>Country</th>\n",
              "      <th>Year</th>\n",
              "    </tr>\n",
              "  </thead>\n",
              "  <tbody>\n",
              "    <tr>\n",
              "      <th>0</th>\n",
              "      <td>489434</td>\n",
              "      <td>85048</td>\n",
              "      <td>15CM CHRISTMAS GLASS BALL 20 LIGHTS</td>\n",
              "      <td>12</td>\n",
              "      <td>2009-12-01 07:45:00</td>\n",
              "      <td>6.95</td>\n",
              "      <td>13085.0</td>\n",
              "      <td>United Kingdom</td>\n",
              "      <td>2009</td>\n",
              "    </tr>\n",
              "    <tr>\n",
              "      <th>1</th>\n",
              "      <td>489434</td>\n",
              "      <td>79323P</td>\n",
              "      <td>PINK CHERRY LIGHTS</td>\n",
              "      <td>12</td>\n",
              "      <td>2009-12-01 07:45:00</td>\n",
              "      <td>6.75</td>\n",
              "      <td>13085.0</td>\n",
              "      <td>United Kingdom</td>\n",
              "      <td>2009</td>\n",
              "    </tr>\n",
              "    <tr>\n",
              "      <th>2</th>\n",
              "      <td>489434</td>\n",
              "      <td>79323W</td>\n",
              "      <td>WHITE CHERRY LIGHTS</td>\n",
              "      <td>12</td>\n",
              "      <td>2009-12-01 07:45:00</td>\n",
              "      <td>6.75</td>\n",
              "      <td>13085.0</td>\n",
              "      <td>United Kingdom</td>\n",
              "      <td>2009</td>\n",
              "    </tr>\n",
              "    <tr>\n",
              "      <th>3</th>\n",
              "      <td>489434</td>\n",
              "      <td>22041</td>\n",
              "      <td>RECORD FRAME 7\" SINGLE SIZE</td>\n",
              "      <td>48</td>\n",
              "      <td>2009-12-01 07:45:00</td>\n",
              "      <td>2.10</td>\n",
              "      <td>13085.0</td>\n",
              "      <td>United Kingdom</td>\n",
              "      <td>2009</td>\n",
              "    </tr>\n",
              "    <tr>\n",
              "      <th>4</th>\n",
              "      <td>489434</td>\n",
              "      <td>21232</td>\n",
              "      <td>STRAWBERRY CERAMIC TRINKET BOX</td>\n",
              "      <td>24</td>\n",
              "      <td>2009-12-01 07:45:00</td>\n",
              "      <td>1.25</td>\n",
              "      <td>13085.0</td>\n",
              "      <td>United Kingdom</td>\n",
              "      <td>2009</td>\n",
              "    </tr>\n",
              "  </tbody>\n",
              "</table>\n",
              "</div>"
            ],
            "text/plain": [
              "  Invoice StockCode  ...         Country  Year\n",
              "0  489434     85048  ...  United Kingdom  2009\n",
              "1  489434    79323P  ...  United Kingdom  2009\n",
              "2  489434    79323W  ...  United Kingdom  2009\n",
              "3  489434     22041  ...  United Kingdom  2009\n",
              "4  489434     21232  ...  United Kingdom  2009\n",
              "\n",
              "[5 rows x 9 columns]"
            ]
          },
          "metadata": {},
          "execution_count": 245
        }
      ]
    },
    {
      "cell_type": "markdown",
      "metadata": {
        "id": "BadAL70yADPC"
      },
      "source": [
        "Banyaknya Quantity di atas atau sama dengan 1"
      ]
    },
    {
      "cell_type": "code",
      "metadata": {
        "colab": {
          "base_uri": "https://localhost:8080/"
        },
        "id": "yc6eY3q1AG5y",
        "outputId": "e6f610fb-7abb-474e-950c-ae75a582b13c"
      },
      "source": [
        "quantity_valid.shape"
      ],
      "execution_count": 246,
      "outputs": [
        {
          "output_type": "execute_result",
          "data": {
            "text/plain": [
              "(1044421, 9)"
            ]
          },
          "metadata": {},
          "execution_count": 246
        }
      ]
    },
    {
      "cell_type": "markdown",
      "metadata": {
        "id": "UwoASSM6B7R1"
      },
      "source": [
        "Invoice Tanpa C"
      ]
    },
    {
      "cell_type": "code",
      "metadata": {
        "colab": {
          "base_uri": "https://localhost:8080/"
        },
        "id": "sWpU6SP5CDc7",
        "outputId": "6ece06ad-4b91-4bed-b4e5-8d524fe805d0"
      },
      "source": [
        "quantity_valid = quantity_valid[~quantity_valid['Invoice'].str.contains(\"C\")]\n",
        "quantity_valid.shape"
      ],
      "execution_count": 247,
      "outputs": [
        {
          "output_type": "execute_result",
          "data": {
            "text/plain": [
              "(1044420, 9)"
            ]
          },
          "metadata": {},
          "execution_count": 247
        }
      ]
    },
    {
      "cell_type": "markdown",
      "metadata": {
        "id": "B54qJgsfFGai"
      },
      "source": [
        "### 1.3. Create New Feature: Revenue"
      ]
    },
    {
      "cell_type": "markdown",
      "metadata": {
        "id": "AEa6zXjcFZUr"
      },
      "source": [
        "Buat list Revenue berisi `Quantity * Price`"
      ]
    },
    {
      "cell_type": "code",
      "metadata": {
        "colab": {
          "base_uri": "https://localhost:8080/"
        },
        "id": "kGPSyAxOFc7u",
        "outputId": "71874ed5-453a-4cac-bce0-921e44f70755"
      },
      "source": [
        "revenue = quantity_valid['Quantity'] * quantity_valid['Price']\n",
        "revenue"
      ],
      "execution_count": 248,
      "outputs": [
        {
          "output_type": "execute_result",
          "data": {
            "text/plain": [
              "0           83.40\n",
              "1           81.00\n",
              "2           81.00\n",
              "3          100.80\n",
              "4           30.00\n",
              "            ...  \n",
              "1067366     12.60\n",
              "1067367     16.60\n",
              "1067368     16.60\n",
              "1067369     14.85\n",
              "1067370     18.00\n",
              "Length: 1044420, dtype: float64"
            ]
          },
          "metadata": {},
          "execution_count": 248
        }
      ]
    },
    {
      "cell_type": "markdown",
      "metadata": {
        "id": "XyAbDLY2GAD4"
      },
      "source": [
        "Masukan ke dataset"
      ]
    },
    {
      "cell_type": "code",
      "metadata": {
        "colab": {
          "base_uri": "https://localhost:8080/",
          "height": 204
        },
        "id": "uN2Xo8uMGHPD",
        "outputId": "ed622440-d468-48de-a279-01de5395d1f7"
      },
      "source": [
        "quantity_valid['Revenue'] = revenue\n",
        "quantity_valid.head()"
      ],
      "execution_count": 249,
      "outputs": [
        {
          "output_type": "execute_result",
          "data": {
            "text/html": [
              "<div>\n",
              "<style scoped>\n",
              "    .dataframe tbody tr th:only-of-type {\n",
              "        vertical-align: middle;\n",
              "    }\n",
              "\n",
              "    .dataframe tbody tr th {\n",
              "        vertical-align: top;\n",
              "    }\n",
              "\n",
              "    .dataframe thead th {\n",
              "        text-align: right;\n",
              "    }\n",
              "</style>\n",
              "<table border=\"1\" class=\"dataframe\">\n",
              "  <thead>\n",
              "    <tr style=\"text-align: right;\">\n",
              "      <th></th>\n",
              "      <th>Invoice</th>\n",
              "      <th>StockCode</th>\n",
              "      <th>Description</th>\n",
              "      <th>Quantity</th>\n",
              "      <th>InvoiceDate</th>\n",
              "      <th>Price</th>\n",
              "      <th>Customer ID</th>\n",
              "      <th>Country</th>\n",
              "      <th>Year</th>\n",
              "      <th>Revenue</th>\n",
              "    </tr>\n",
              "  </thead>\n",
              "  <tbody>\n",
              "    <tr>\n",
              "      <th>0</th>\n",
              "      <td>489434</td>\n",
              "      <td>85048</td>\n",
              "      <td>15CM CHRISTMAS GLASS BALL 20 LIGHTS</td>\n",
              "      <td>12</td>\n",
              "      <td>2009-12-01 07:45:00</td>\n",
              "      <td>6.95</td>\n",
              "      <td>13085.0</td>\n",
              "      <td>United Kingdom</td>\n",
              "      <td>2009</td>\n",
              "      <td>83.4</td>\n",
              "    </tr>\n",
              "    <tr>\n",
              "      <th>1</th>\n",
              "      <td>489434</td>\n",
              "      <td>79323P</td>\n",
              "      <td>PINK CHERRY LIGHTS</td>\n",
              "      <td>12</td>\n",
              "      <td>2009-12-01 07:45:00</td>\n",
              "      <td>6.75</td>\n",
              "      <td>13085.0</td>\n",
              "      <td>United Kingdom</td>\n",
              "      <td>2009</td>\n",
              "      <td>81.0</td>\n",
              "    </tr>\n",
              "    <tr>\n",
              "      <th>2</th>\n",
              "      <td>489434</td>\n",
              "      <td>79323W</td>\n",
              "      <td>WHITE CHERRY LIGHTS</td>\n",
              "      <td>12</td>\n",
              "      <td>2009-12-01 07:45:00</td>\n",
              "      <td>6.75</td>\n",
              "      <td>13085.0</td>\n",
              "      <td>United Kingdom</td>\n",
              "      <td>2009</td>\n",
              "      <td>81.0</td>\n",
              "    </tr>\n",
              "    <tr>\n",
              "      <th>3</th>\n",
              "      <td>489434</td>\n",
              "      <td>22041</td>\n",
              "      <td>RECORD FRAME 7\" SINGLE SIZE</td>\n",
              "      <td>48</td>\n",
              "      <td>2009-12-01 07:45:00</td>\n",
              "      <td>2.10</td>\n",
              "      <td>13085.0</td>\n",
              "      <td>United Kingdom</td>\n",
              "      <td>2009</td>\n",
              "      <td>100.8</td>\n",
              "    </tr>\n",
              "    <tr>\n",
              "      <th>4</th>\n",
              "      <td>489434</td>\n",
              "      <td>21232</td>\n",
              "      <td>STRAWBERRY CERAMIC TRINKET BOX</td>\n",
              "      <td>24</td>\n",
              "      <td>2009-12-01 07:45:00</td>\n",
              "      <td>1.25</td>\n",
              "      <td>13085.0</td>\n",
              "      <td>United Kingdom</td>\n",
              "      <td>2009</td>\n",
              "      <td>30.0</td>\n",
              "    </tr>\n",
              "  </tbody>\n",
              "</table>\n",
              "</div>"
            ],
            "text/plain": [
              "  Invoice StockCode  ...  Year  Revenue\n",
              "0  489434     85048  ...  2009     83.4\n",
              "1  489434    79323P  ...  2009     81.0\n",
              "2  489434    79323W  ...  2009     81.0\n",
              "3  489434     22041  ...  2009    100.8\n",
              "4  489434     21232  ...  2009     30.0\n",
              "\n",
              "[5 rows x 10 columns]"
            ]
          },
          "metadata": {},
          "execution_count": 249
        }
      ]
    },
    {
      "cell_type": "markdown",
      "metadata": {
        "id": "1qdKLi8LHrB1"
      },
      "source": [
        "### 1.4. Average of Revenue per Year"
      ]
    },
    {
      "cell_type": "markdown",
      "metadata": {
        "id": "E6NPhrbTJWkH"
      },
      "source": [
        "Rata-rata per Tahun"
      ]
    },
    {
      "cell_type": "code",
      "metadata": {
        "colab": {
          "base_uri": "https://localhost:8080/",
          "height": 142
        },
        "id": "i-gCx4bTH6ww",
        "outputId": "ae254906-847f-43e5-e725-e7ff916ebc16"
      },
      "source": [
        "bakal_plot = quantity_valid.groupby('Year')['Revenue'].mean().reset_index()\n",
        "bakal_plot.rename(columns={'Revenue':'Mean'}, inplace=True)\n",
        "bakal_plot['Year'] = pd.to_datetime(bakal_plot['Year'], format='%Y')\n",
        "bakal_plot"
      ],
      "execution_count": 250,
      "outputs": [
        {
          "output_type": "execute_result",
          "data": {
            "text/html": [
              "<div>\n",
              "<style scoped>\n",
              "    .dataframe tbody tr th:only-of-type {\n",
              "        vertical-align: middle;\n",
              "    }\n",
              "\n",
              "    .dataframe tbody tr th {\n",
              "        vertical-align: top;\n",
              "    }\n",
              "\n",
              "    .dataframe thead th {\n",
              "        text-align: right;\n",
              "    }\n",
              "</style>\n",
              "<table border=\"1\" class=\"dataframe\">\n",
              "  <thead>\n",
              "    <tr style=\"text-align: right;\">\n",
              "      <th></th>\n",
              "      <th>Year</th>\n",
              "      <th>Mean</th>\n",
              "    </tr>\n",
              "  </thead>\n",
              "  <tbody>\n",
              "    <tr>\n",
              "      <th>0</th>\n",
              "      <td>2009-01-01</td>\n",
              "      <td>18.713273</td>\n",
              "    </tr>\n",
              "    <tr>\n",
              "      <th>1</th>\n",
              "      <td>2010-01-01</td>\n",
              "      <td>19.908987</td>\n",
              "    </tr>\n",
              "    <tr>\n",
              "      <th>2</th>\n",
              "      <td>2011-01-01</td>\n",
              "      <td>20.058767</td>\n",
              "    </tr>\n",
              "  </tbody>\n",
              "</table>\n",
              "</div>"
            ],
            "text/plain": [
              "        Year       Mean\n",
              "0 2009-01-01  18.713273\n",
              "1 2010-01-01  19.908987\n",
              "2 2011-01-01  20.058767"
            ]
          },
          "metadata": {},
          "execution_count": 250
        }
      ]
    },
    {
      "cell_type": "code",
      "metadata": {
        "colab": {
          "base_uri": "https://localhost:8080/"
        },
        "id": "1oa8RLmeTTZi",
        "outputId": "f0c3d950-04a7-450e-84c9-b780cf6d1800"
      },
      "source": [
        "bakal_plot.info()"
      ],
      "execution_count": 251,
      "outputs": [
        {
          "output_type": "stream",
          "name": "stdout",
          "text": [
            "<class 'pandas.core.frame.DataFrame'>\n",
            "RangeIndex: 3 entries, 0 to 2\n",
            "Data columns (total 2 columns):\n",
            " #   Column  Non-Null Count  Dtype         \n",
            "---  ------  --------------  -----         \n",
            " 0   Year    3 non-null      datetime64[ns]\n",
            " 1   Mean    3 non-null      float64       \n",
            "dtypes: datetime64[ns](1), float64(1)\n",
            "memory usage: 176.0 bytes\n"
          ]
        }
      ]
    },
    {
      "cell_type": "markdown",
      "metadata": {
        "id": "CVTycXD-vO3p"
      },
      "source": [
        "Matplotlib Styles"
      ]
    },
    {
      "cell_type": "code",
      "metadata": {
        "colab": {
          "base_uri": "https://localhost:8080/"
        },
        "id": "TfoarYs-vRTh",
        "outputId": "8c813fc3-87e8-44c1-be8e-15c8759c7c84"
      },
      "source": [
        "print(plt.style.available)\n",
        "mpl.style.use(['ggplot'])"
      ],
      "execution_count": 252,
      "outputs": [
        {
          "output_type": "stream",
          "name": "stdout",
          "text": [
            "['Solarize_Light2', '_classic_test_patch', 'bmh', 'classic', 'dark_background', 'fast', 'fivethirtyeight', 'ggplot', 'grayscale', 'seaborn', 'seaborn-bright', 'seaborn-colorblind', 'seaborn-dark', 'seaborn-dark-palette', 'seaborn-darkgrid', 'seaborn-deep', 'seaborn-muted', 'seaborn-notebook', 'seaborn-paper', 'seaborn-pastel', 'seaborn-poster', 'seaborn-talk', 'seaborn-ticks', 'seaborn-white', 'seaborn-whitegrid', 'tableau-colorblind10']\n"
          ]
        }
      ]
    },
    {
      "cell_type": "markdown",
      "metadata": {
        "id": "BReS9IihKPAO"
      },
      "source": [
        "Visualisasi\n"
      ]
    },
    {
      "cell_type": "code",
      "metadata": {
        "id": "cx5EaLA6KTUL",
        "colab": {
          "base_uri": "https://localhost:8080/",
          "height": 354
        },
        "outputId": "3c5a7172-2b9b-486f-f5d8-c5f273f4587e"
      },
      "source": [
        "mpl.style.use(['fast'])\n",
        "\n",
        "bakal_plot.plot(x='Year', y='Mean', kind='line',\n",
        "                figsize=(10,5), color='orange')\n",
        "plt.title('Rata-rata Revenue Tiap Tahun')\n",
        "plt.ylabel('Mean')\n",
        "plt.xlabel('Year')\n",
        "plt.show()"
      ],
      "execution_count": 253,
      "outputs": [
        {
          "output_type": "display_data",
          "data": {
            "image/png": "[encoded data removed]",
            "text/plain": [
              "<Figure size 720x360 with 1 Axes>"
            ]
          },
          "metadata": {}
        }
      ]
    },
    {
      "cell_type": "markdown",
      "metadata": {
        "id": "slFBEe6kaZxK"
      },
      "source": [
        "### 1.5. Interpretation"
      ]
    },
    {
      "cell_type": "markdown",
      "metadata": {
        "id": "_mp-pyeIahes"
      },
      "source": [
        "Dari Output di atas, dapat dilihat bahwa tiap tahun, rata-rata penjualan (dalam poundsterling) mengalami peningkatan. Pada tahun 2009-2010 mengalami peningkatan yang tajam, sementara pada tahun 2010-2011 hanya mengalami peningkatan yang sedikit saja, tidak seperti pada tahun sebelumnya."
      ]
    },
    {
      "cell_type": "markdown",
      "metadata": {
        "id": "PmHCCAthOTMK"
      },
      "source": [
        "## Section 2"
      ]
    },
    {
      "cell_type": "markdown",
      "metadata": {
        "id": "VcFpwao8OxlO"
      },
      "source": [
        "### 2.1. dan 2.2. Filtering Data"
      ]
    },
    {
      "cell_type": "markdown",
      "metadata": {
        "id": "DBb4JqWwO0JF"
      },
      "source": [
        "#### 2.1. Customers who finished their purchases"
      ]
    },
    {
      "cell_type": "code",
      "metadata": {
        "colab": {
          "base_uri": "https://localhost:8080/"
        },
        "id": "KNO89gypO8IU",
        "outputId": "3399ea19-57a9-400f-852e-006eb1e65819"
      },
      "source": [
        "finished = quantity_valid[~quantity_valid['Customer ID'].isnull()]\n",
        "finished.shape[0]"
      ],
      "execution_count": 254,
      "outputs": [
        {
          "output_type": "execute_result",
          "data": {
            "text/plain": [
              "805620"
            ]
          },
          "metadata": {},
          "execution_count": 254
        }
      ]
    },
    {
      "cell_type": "markdown",
      "metadata": {
        "id": "VwXDjmt5SObe"
      },
      "source": [
        "#### 2.2. Customers who canceled their purchases"
      ]
    },
    {
      "cell_type": "code",
      "metadata": {
        "colab": {
          "base_uri": "https://localhost:8080/"
        },
        "id": "vA8DciV4STUp",
        "outputId": "001c3238-b4ee-4c1b-9811-f12e53614cc8"
      },
      "source": [
        "cancel = df_dataset[df_dataset['Invoice'].str.contains(\"C\")]\n",
        "cancel.shape[0]"
      ],
      "execution_count": 255,
      "outputs": [
        {
          "output_type": "execute_result",
          "data": {
            "text/plain": [
              "19494"
            ]
          },
          "metadata": {},
          "execution_count": 255
        }
      ]
    },
    {
      "cell_type": "markdown",
      "metadata": {
        "id": "S2JRyBlFTQ5m"
      },
      "source": [
        "### 2.3. Number of Finished and Canceled Transactions Each Year"
      ]
    },
    {
      "cell_type": "markdown",
      "metadata": {
        "id": "gReHDRG4sy_1"
      },
      "source": [
        "Banyaknya Transaksi berhasil setiap tahun"
      ]
    },
    {
      "cell_type": "code",
      "metadata": {
        "colab": {
          "base_uri": "https://localhost:8080/",
          "height": 142
        },
        "id": "7jMcrjstTWAg",
        "outputId": "03572430-414a-42e7-abc3-9fbec14e56c6"
      },
      "source": [
        "finished_vis = finished.groupby('Year')['Invoice'].count().reset_index()\n",
        "finished_vis.rename(columns={'Invoice' : 'Finished'}, inplace=True)\n",
        "finished_vis"
      ],
      "execution_count": 256,
      "outputs": [
        {
          "output_type": "execute_result",
          "data": {
            "text/html": [
              "<div>\n",
              "<style scoped>\n",
              "    .dataframe tbody tr th:only-of-type {\n",
              "        vertical-align: middle;\n",
              "    }\n",
              "\n",
              "    .dataframe tbody tr th {\n",
              "        vertical-align: top;\n",
              "    }\n",
              "\n",
              "    .dataframe thead th {\n",
              "        text-align: right;\n",
              "    }\n",
              "</style>\n",
              "<table border=\"1\" class=\"dataframe\">\n",
              "  <thead>\n",
              "    <tr style=\"text-align: right;\">\n",
              "      <th></th>\n",
              "      <th>Year</th>\n",
              "      <th>Finished</th>\n",
              "    </tr>\n",
              "  </thead>\n",
              "  <tbody>\n",
              "    <tr>\n",
              "      <th>0</th>\n",
              "      <td>2009</td>\n",
              "      <td>30761</td>\n",
              "    </tr>\n",
              "    <tr>\n",
              "      <th>1</th>\n",
              "      <td>2010</td>\n",
              "      <td>403094</td>\n",
              "    </tr>\n",
              "    <tr>\n",
              "      <th>2</th>\n",
              "      <td>2011</td>\n",
              "      <td>371765</td>\n",
              "    </tr>\n",
              "  </tbody>\n",
              "</table>\n",
              "</div>"
            ],
            "text/plain": [
              "   Year  Finished\n",
              "0  2009     30761\n",
              "1  2010    403094\n",
              "2  2011    371765"
            ]
          },
          "metadata": {},
          "execution_count": 256
        }
      ]
    },
    {
      "cell_type": "markdown",
      "metadata": {
        "id": "aiE3zN-es1-r"
      },
      "source": [
        "Banyaknya Transaksi gagal setiap tahun"
      ]
    },
    {
      "cell_type": "code",
      "metadata": {
        "colab": {
          "base_uri": "https://localhost:8080/",
          "height": 142
        },
        "id": "k69YXmT6VXEh",
        "outputId": "39abd560-de14-4594-bf02-9cf5dfb5accb"
      },
      "source": [
        "cancel_vis = cancel.groupby('Year')['Invoice'].count().reset_index()\n",
        "cancel_vis.rename(columns={'Invoice' : 'Cancel'}, inplace=True)\n",
        "cancel_vis"
      ],
      "execution_count": 257,
      "outputs": [
        {
          "output_type": "execute_result",
          "data": {
            "text/html": [
              "<div>\n",
              "<style scoped>\n",
              "    .dataframe tbody tr th:only-of-type {\n",
              "        vertical-align: middle;\n",
              "    }\n",
              "\n",
              "    .dataframe tbody tr th {\n",
              "        vertical-align: top;\n",
              "    }\n",
              "\n",
              "    .dataframe thead th {\n",
              "        text-align: right;\n",
              "    }\n",
              "</style>\n",
              "<table border=\"1\" class=\"dataframe\">\n",
              "  <thead>\n",
              "    <tr style=\"text-align: right;\">\n",
              "      <th></th>\n",
              "      <th>Year</th>\n",
              "      <th>Cancel</th>\n",
              "    </tr>\n",
              "  </thead>\n",
              "  <tbody>\n",
              "    <tr>\n",
              "      <th>0</th>\n",
              "      <td>2009</td>\n",
              "      <td>1015</td>\n",
              "    </tr>\n",
              "    <tr>\n",
              "      <th>1</th>\n",
              "      <td>2010</td>\n",
              "      <td>9919</td>\n",
              "    </tr>\n",
              "    <tr>\n",
              "      <th>2</th>\n",
              "      <td>2011</td>\n",
              "      <td>8560</td>\n",
              "    </tr>\n",
              "  </tbody>\n",
              "</table>\n",
              "</div>"
            ],
            "text/plain": [
              "   Year  Cancel\n",
              "0  2009    1015\n",
              "1  2010    9919\n",
              "2  2011    8560"
            ]
          },
          "metadata": {},
          "execution_count": 257
        }
      ]
    },
    {
      "cell_type": "markdown",
      "metadata": {
        "id": "tB4V7rZTs7gS"
      },
      "source": [
        "Menggabungkan kedua tabel"
      ]
    },
    {
      "cell_type": "code",
      "metadata": {
        "colab": {
          "base_uri": "https://localhost:8080/",
          "height": 142
        },
        "id": "0pwAuNTWV2Qc",
        "outputId": "b67414ef-f729-4ed5-915b-b1d30846486c"
      },
      "source": [
        "cancel_temp = cancel_vis['Cancel']\n",
        "vis = finished_vis\n",
        "vis['Cancel'] = cancel_temp\n",
        "vis"
      ],
      "execution_count": 258,
      "outputs": [
        {
          "output_type": "execute_result",
          "data": {
            "text/html": [
              "<div>\n",
              "<style scoped>\n",
              "    .dataframe tbody tr th:only-of-type {\n",
              "        vertical-align: middle;\n",
              "    }\n",
              "\n",
              "    .dataframe tbody tr th {\n",
              "        vertical-align: top;\n",
              "    }\n",
              "\n",
              "    .dataframe thead th {\n",
              "        text-align: right;\n",
              "    }\n",
              "</style>\n",
              "<table border=\"1\" class=\"dataframe\">\n",
              "  <thead>\n",
              "    <tr style=\"text-align: right;\">\n",
              "      <th></th>\n",
              "      <th>Year</th>\n",
              "      <th>Finished</th>\n",
              "      <th>Cancel</th>\n",
              "    </tr>\n",
              "  </thead>\n",
              "  <tbody>\n",
              "    <tr>\n",
              "      <th>0</th>\n",
              "      <td>2009</td>\n",
              "      <td>30761</td>\n",
              "      <td>1015</td>\n",
              "    </tr>\n",
              "    <tr>\n",
              "      <th>1</th>\n",
              "      <td>2010</td>\n",
              "      <td>403094</td>\n",
              "      <td>9919</td>\n",
              "    </tr>\n",
              "    <tr>\n",
              "      <th>2</th>\n",
              "      <td>2011</td>\n",
              "      <td>371765</td>\n",
              "      <td>8560</td>\n",
              "    </tr>\n",
              "  </tbody>\n",
              "</table>\n",
              "</div>"
            ],
            "text/plain": [
              "   Year  Finished  Cancel\n",
              "0  2009     30761    1015\n",
              "1  2010    403094    9919\n",
              "2  2011    371765    8560"
            ]
          },
          "metadata": {},
          "execution_count": 258
        }
      ]
    },
    {
      "cell_type": "markdown",
      "metadata": {
        "id": "qdh89GjGs_Wz"
      },
      "source": [
        "Visualisasi"
      ]
    },
    {
      "cell_type": "code",
      "metadata": {
        "colab": {
          "base_uri": "https://localhost:8080/",
          "height": 517
        },
        "id": "de1lzbBraB8J",
        "outputId": "dc83067c-bd78-43ff-9c9c-b6c9d3d97817"
      },
      "source": [
        "vis['Year'] = pd.to_datetime(vis['Year'], format='%Y')\n",
        "\n",
        "vis.plot(x='Year',\n",
        "          kind='area', \n",
        "             stacked=True,\n",
        "             figsize=(15, 8),\n",
        "         alpha = 0.5\n",
        "             )\n",
        "\n",
        "plt.title('Finished vs Cancel Transaction')\n",
        "plt.ylabel('Number of Transaction')\n",
        "plt.xlabel('Years')\n",
        "\n",
        "plt.show()"
      ],
      "execution_count": 259,
      "outputs": [
        {
          "output_type": "display_data",
          "data": {
            "image/png": "[encoded data removed]",
            "text/plain": [
              "<Figure size 1080x576 with 1 Axes>"
            ]
          },
          "metadata": {}
        }
      ]
    },
    {
      "cell_type": "markdown",
      "metadata": {
        "id": "3URKOj8ynf3r"
      },
      "source": [
        "### 2.4. Cancellation Rate"
      ]
    },
    {
      "cell_type": "markdown",
      "metadata": {
        "id": "GqC2On5_tB-5"
      },
      "source": [
        "Menghitung Total"
      ]
    },
    {
      "cell_type": "code",
      "metadata": {
        "colab": {
          "base_uri": "https://localhost:8080/"
        },
        "id": "Ysbrfkt8njLM",
        "outputId": "b043bfa5-51f5-4de0-9b30-02b1f473f705"
      },
      "source": [
        "total = vis['Finished'] + vis['Cancel']\n",
        "total"
      ],
      "execution_count": 260,
      "outputs": [
        {
          "output_type": "execute_result",
          "data": {
            "text/plain": [
              "0     31776\n",
              "1    413013\n",
              "2    380325\n",
              "dtype: int64"
            ]
          },
          "metadata": {},
          "execution_count": 260
        }
      ]
    },
    {
      "cell_type": "markdown",
      "metadata": {
        "id": "U1-FVWcbtGMy"
      },
      "source": [
        "Cancellation rate per tahun"
      ]
    },
    {
      "cell_type": "code",
      "metadata": {
        "colab": {
          "base_uri": "https://localhost:8080/"
        },
        "id": "KPHtggzQoXC4",
        "outputId": "05fda024-ec6c-484e-ee71-a56b17d7bed6"
      },
      "source": [
        "cancel_rate = vis['Cancel'] / total * 100\n",
        "cancel_rate.values.tolist()\n",
        "for i in range(len(cancel_rate)):\n",
        "  print(2009 + i, \" memiliki cancellation rate \", cancel_rate[i], \"%\")"
      ],
      "execution_count": 261,
      "outputs": [
        {
          "output_type": "stream",
          "name": "stdout",
          "text": [
            "2009  memiliki cancellation rate  3.194234642497482 %\n",
            "2010  memiliki cancellation rate  2.4016193194887325 %\n",
            "2011  memiliki cancellation rate  2.2507066324853744 %\n"
          ]
        }
      ]
    },
    {
      "cell_type": "markdown",
      "metadata": {
        "id": "e1xGUlmZsHjW"
      },
      "source": [
        "### 2.5. Interpretation"
      ]
    },
    {
      "cell_type": "markdown",
      "metadata": {
        "id": "da1WOPG8sV7A"
      },
      "source": [
        "Dari hasil nomor 2.3 dapat dilihat visualisasi antara transaksi yang berhasil dan cancel, sementara pada nomor 2.4 dapat dilihat cancellation rate. Tiap tahun, cancellation rate mengalami penurunan sehingga merupakan kemajuan bagi ritel online karena semakin banyak pelanggan yang tidak melakukan cancel. "
      ]
    }
  ]
}